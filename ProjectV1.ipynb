{
 "cells": [
  {
   "cell_type": "markdown",
   "metadata": {},
   "source": [
    "# Group Project\n",
    "## Sports Analytics\n",
    "---\n"
   ]
  },
  {
   "cell_type": "markdown",
   "metadata": {},
   "source": [
    "**Load List of Active GMs**"
   ]
  },
  {
   "cell_type": "code",
   "execution_count": 1,
   "metadata": {},
   "outputs": [],
   "source": [
    "import pandas as pd\n",
    "gm = pd.read_csv('~/Documents/Fordham/Sports Analytics/Project/activeGMsV2.txt',sep='\\t')"
   ]
  },
  {
   "cell_type": "code",
   "execution_count": 2,
   "metadata": {},
   "outputs": [
    {
     "data": {
      "text/html": [
       "<div>\n",
       "<style>\n",
       "    .dataframe thead tr:only-child th {\n",
       "        text-align: right;\n",
       "    }\n",
       "\n",
       "    .dataframe thead th {\n",
       "        text-align: left;\n",
       "    }\n",
       "\n",
       "    .dataframe tbody tr th {\n",
       "        vertical-align: top;\n",
       "    }\n",
       "</style>\n",
       "<table border=\"1\" class=\"dataframe\">\n",
       "  <thead>\n",
       "    <tr style=\"text-align: right;\">\n",
       "      <th></th>\n",
       "      <th>Team</th>\n",
       "      <th>General Manager</th>\n",
       "      <th>Date of hire</th>\n",
       "      <th>Active</th>\n",
       "      <th>URL</th>\n",
       "    </tr>\n",
       "  </thead>\n",
       "  <tbody>\n",
       "    <tr>\n",
       "      <th>0</th>\n",
       "      <td>Atlanta Hawks</td>\n",
       "      <td>Travis Schlenk</td>\n",
       "      <td>2017</td>\n",
       "      <td>Y</td>\n",
       "      <td>http://www.prosportstransactions.com/basketbal...</td>\n",
       "    </tr>\n",
       "    <tr>\n",
       "      <th>1</th>\n",
       "      <td>Boston Celtics</td>\n",
       "      <td>Danny Ainge</td>\n",
       "      <td>2003</td>\n",
       "      <td>Y</td>\n",
       "      <td>http://www.prosportstransactions.com/basketbal...</td>\n",
       "    </tr>\n",
       "    <tr>\n",
       "      <th>2</th>\n",
       "      <td>Brooklyn Nets</td>\n",
       "      <td>Sean Marks</td>\n",
       "      <td>2016</td>\n",
       "      <td>Y</td>\n",
       "      <td>http://www.prosportstransactions.com/basketbal...</td>\n",
       "    </tr>\n",
       "    <tr>\n",
       "      <th>3</th>\n",
       "      <td>Charlotte Hornets</td>\n",
       "      <td>Rich Cho</td>\n",
       "      <td>2011</td>\n",
       "      <td>Y</td>\n",
       "      <td>http://www.prosportstransactions.com/basketbal...</td>\n",
       "    </tr>\n",
       "    <tr>\n",
       "      <th>4</th>\n",
       "      <td>Chicago Bulls</td>\n",
       "      <td>Gar Forman</td>\n",
       "      <td>2009</td>\n",
       "      <td>Y</td>\n",
       "      <td>http://www.prosportstransactions.com/basketbal...</td>\n",
       "    </tr>\n",
       "  </tbody>\n",
       "</table>\n",
       "</div>"
      ],
      "text/plain": [
       "                Team General Manager  Date of hire Active  \\\n",
       "0      Atlanta Hawks  Travis Schlenk          2017      Y   \n",
       "1     Boston Celtics     Danny Ainge          2003      Y   \n",
       "2      Brooklyn Nets      Sean Marks          2016      Y   \n",
       "3  Charlotte Hornets        Rich Cho          2011      Y   \n",
       "4      Chicago Bulls      Gar Forman          2009      Y   \n",
       "\n",
       "                                                 URL  \n",
       "0  http://www.prosportstransactions.com/basketbal...  \n",
       "1  http://www.prosportstransactions.com/basketbal...  \n",
       "2  http://www.prosportstransactions.com/basketbal...  \n",
       "3  http://www.prosportstransactions.com/basketbal...  \n",
       "4  http://www.prosportstransactions.com/basketbal...  "
      ]
     },
     "execution_count": 2,
     "metadata": {},
     "output_type": "execute_result"
    }
   ],
   "source": [
    "gm.head()"
   ]
  },
  {
   "cell_type": "code",
   "execution_count": 3,
   "metadata": {},
   "outputs": [
    {
     "data": {
      "text/plain": [
       "<matplotlib.text.Text at 0x10d2ad30>"
      ]
     },
     "execution_count": 3,
     "metadata": {},
     "output_type": "execute_result"
    },
    {
     "data": {
      "image/png": "[encoded data removed]",
      "text/plain": [
       "<matplotlib.figure.Figure at 0x9ebe8d0>"
      ]
     },
     "metadata": {},
     "output_type": "display_data"
    }
   ],
   "source": [
    "%matplotlib inline\n",
    "import matplotlib as mpl\n",
    "import matplotlib.pyplot as plt\n",
    "import seaborn as sns\n",
    "plt.figure(figsize=(10,5))\n",
    "gmCnt = sns.countplot(x=\"Date of hire\", data=gm,color='green')\n",
    "gmCnt.set_title(\"Count of GMs by Hired Date\")"
   ]
  },
  {
   "cell_type": "markdown",
   "metadata": {},
   "source": [
    "---\n",
    "## Scrape Transactions\n",
    "\n",
    "Transactions for each active GM were scraped in order to determine the transactions for which the GM / executive was responsible for.\n",
    "* *Note*: the role of the general manager can be very different for each franchise and sometimes the personnel decisions are not solely made by the GM\n",
    "* Data was sourced from http://www.prosportstransactions.com\n",
    "* Only contains GMs active as of *March 4th 2018*"
   ]
  },
  {
   "cell_type": "code",
   "execution_count": 4,
   "metadata": {},
   "outputs": [],
   "source": [
    "from urllib.request import urlopen\n",
    "from bs4 import BeautifulSoup\n",
    "import urllib.request\n",
    "import re\n",
    "import requests\n",
    "import pprint\n",
    "class AppURLopener(urllib.request.FancyURLopener):\n",
    "    version = \"Mozilla/5.0\""
   ]
  },
  {
   "cell_type": "code",
   "execution_count": 5,
   "metadata": {},
   "outputs": [],
   "source": [
    "def gmScrape(gmName,URL):\n",
    "        query = (URL)\n",
    "        opener = AppURLopener()\n",
    "        response = opener.open(query)\n",
    "        soup = BeautifulSoup(response,'html.parser')\n",
    "        urlList = []\n",
    "        for tr in soup.find_all('tr')[-1:]:\n",
    "            tds = tr.find_all('a')\n",
    "            for x in tds[:-1]:\n",
    "                urlList.append(str(URL[:-1])+str(int(x.text)*25))\n",
    "        info = soup.find('table',{'class':'datatable center'})\n",
    "        date = []\n",
    "        team = []\n",
    "        acquired = []\n",
    "        relinquished = []\n",
    "        notes = []\n",
    "        for tr in soup.find_all('tr')[2:-1]:\n",
    "            tds = tr.find_all('td')\n",
    "            date.append(tds[0].text)\n",
    "            team.append(tds[1].text)\n",
    "            acquired.append(tds[2].text)\n",
    "            relinquished.append(tds[3].text)\n",
    "            notes.append(tds[4].text)\n",
    "        for y in urlList:\n",
    "            query = (str(y))\n",
    "            opener = AppURLopener()\n",
    "            response = opener.open(query)\n",
    "            soup = BeautifulSoup(response,'html.parser')\n",
    "            for tr in soup.find_all('tr')[1:-1]:\n",
    "                tds = tr.find_all('td')\n",
    "                date.append(tds[0].text)\n",
    "                team.append(tds[1].text)\n",
    "                acquired.append(tds[2].text)\n",
    "                relinquished.append(tds[3].text)\n",
    "                notes.append(tds[4].text)\n",
    "        df1 = pd.DataFrame({'date':date,\n",
    "                     'team': team,\n",
    "                     'acquired':acquired,\n",
    "                     'relinquished':relinquished,\n",
    "                     'notes':notes})\n",
    "        df1['GM'] = gmName\n",
    "        return(df1)"
   ]
  },
  {
   "cell_type": "code",
   "execution_count": 6,
   "metadata": {},
   "outputs": [
    {
     "name": "stderr",
     "output_type": "stream",
     "text": [
      "c:\\users\\ryan\\appdata\\local\\programs\\python\\python36-32\\lib\\site-packages\\ipykernel_launcher.py:3: DeprecationWarning: AppURLopener style of invoking requests is deprecated. Use newer urlopen functions/methods\n",
      "  This is separate from the ipykernel package so we can avoid doing imports until\n",
      "c:\\users\\ryan\\appdata\\local\\programs\\python\\python36-32\\lib\\site-packages\\ipykernel_launcher.py:26: DeprecationWarning: AppURLopener style of invoking requests is deprecated. Use newer urlopen functions/methods\n"
     ]
    }
   ],
   "source": [
    "finalDat = pd.DataFrame()\n",
    "for genM,urlEach in zip(gm['General Manager'],gm['URL']):\n",
    "    if str(urlEach).lower()==\"nan\":\n",
    "        pass\n",
    "    else:\n",
    "        dat = gmScrape(str(genM),str(urlEach))\n",
    "        finalDat = pd.concat([finalDat,dat])\n",
    "        finalDat.reset_index()"
   ]
  },
  {
   "cell_type": "code",
   "execution_count": 7,
   "metadata": {},
   "outputs": [
    {
     "name": "stdout",
     "output_type": "stream",
     "text": [
      "<class 'pandas.core.frame.DataFrame'>\n",
      "Int64Index: 13854 entries, 0 to 73\n",
      "Data columns (total 6 columns):\n",
      "acquired        13854 non-null object\n",
      "date            13854 non-null object\n",
      "notes           13854 non-null object\n",
      "relinquished    13854 non-null object\n",
      "team            13854 non-null object\n",
      "GM              13854 non-null object\n",
      "dtypes: object(6)\n",
      "memory usage: 432.9+ KB\n"
     ]
    }
   ],
   "source": [
    "finalDat.info()"
   ]
  },
  {
   "cell_type": "code",
   "execution_count": 8,
   "metadata": {},
   "outputs": [
    {
     "data": {
      "text/html": [
       "<div>\n",
       "<style>\n",
       "    .dataframe thead tr:only-child th {\n",
       "        text-align: right;\n",
       "    }\n",
       "\n",
       "    .dataframe thead th {\n",
       "        text-align: left;\n",
       "    }\n",
       "\n",
       "    .dataframe tbody tr th {\n",
       "        vertical-align: top;\n",
       "    }\n",
       "</style>\n",
       "<table border=\"1\" class=\"dataframe\">\n",
       "  <thead>\n",
       "    <tr style=\"text-align: right;\">\n",
       "      <th></th>\n",
       "      <th>acquired</th>\n",
       "      <th>date</th>\n",
       "      <th>notes</th>\n",
       "      <th>relinquished</th>\n",
       "      <th>team</th>\n",
       "      <th>GM</th>\n",
       "    </tr>\n",
       "  </thead>\n",
       "  <tbody>\n",
       "    <tr>\n",
       "      <th>0</th>\n",
       "      <td>• Marco Belinelli• Miles Plumlee• 2017 second...</td>\n",
       "      <td>2017-06-20</td>\n",
       "      <td>trade with Hornets</td>\n",
       "      <td>• Dwight Howard• 2017 second round pick (#31-...</td>\n",
       "      <td>Hawks</td>\n",
       "      <td>Travis Schlenk</td>\n",
       "    </tr>\n",
       "    <tr>\n",
       "      <th>1</th>\n",
       "      <td>• Alpha Kaba</td>\n",
       "      <td>2017-06-22</td>\n",
       "      <td>2017 NBA draft second round pick (#60 overall)</td>\n",
       "      <td></td>\n",
       "      <td>Hawks</td>\n",
       "      <td>Travis Schlenk</td>\n",
       "    </tr>\n",
       "    <tr>\n",
       "      <th>2</th>\n",
       "      <td>• John Collins (b)</td>\n",
       "      <td>2017-06-22</td>\n",
       "      <td>2017 NBA draft first round pick (#19 overall)</td>\n",
       "      <td></td>\n",
       "      <td>Hawks</td>\n",
       "      <td>Travis Schlenk</td>\n",
       "    </tr>\n",
       "    <tr>\n",
       "      <th>3</th>\n",
       "      <td>• Tyler Dorsey</td>\n",
       "      <td>2017-06-22</td>\n",
       "      <td>2017 NBA draft second round pick (#41 overall)</td>\n",
       "      <td></td>\n",
       "      <td>Hawks</td>\n",
       "      <td>Travis Schlenk</td>\n",
       "    </tr>\n",
       "    <tr>\n",
       "      <th>4</th>\n",
       "      <td>• Tim Hardaway Jr.</td>\n",
       "      <td>2017-06-26</td>\n",
       "      <td>team tendered $4.6M qualifying offer, making ...</td>\n",
       "      <td></td>\n",
       "      <td>Hawks</td>\n",
       "      <td>Travis Schlenk</td>\n",
       "    </tr>\n",
       "  </tbody>\n",
       "</table>\n",
       "</div>"
      ],
      "text/plain": [
       "                                            acquired        date  \\\n",
       "0   • Marco Belinelli• Miles Plumlee• 2017 second...  2017-06-20   \n",
       "1                                       • Alpha Kaba  2017-06-22   \n",
       "2                                 • John Collins (b)  2017-06-22   \n",
       "3                                     • Tyler Dorsey  2017-06-22   \n",
       "4                                 • Tim Hardaway Jr.  2017-06-26   \n",
       "\n",
       "                                               notes  \\\n",
       "0                                 trade with Hornets   \n",
       "1     2017 NBA draft second round pick (#60 overall)   \n",
       "2      2017 NBA draft first round pick (#19 overall)   \n",
       "3     2017 NBA draft second round pick (#41 overall)   \n",
       "4   team tendered $4.6M qualifying offer, making ...   \n",
       "\n",
       "                                        relinquished    team              GM  \n",
       "0   • Dwight Howard• 2017 second round pick (#31-...   Hawks  Travis Schlenk  \n",
       "1                                                      Hawks  Travis Schlenk  \n",
       "2                                                      Hawks  Travis Schlenk  \n",
       "3                                                      Hawks  Travis Schlenk  \n",
       "4                                                      Hawks  Travis Schlenk  "
      ]
     },
     "execution_count": 8,
     "metadata": {},
     "output_type": "execute_result"
    }
   ],
   "source": [
    "finalDat.head()"
   ]
  },
  {
   "cell_type": "markdown",
   "metadata": {},
   "source": [
    "---\n",
    "# Clean Columns for Analysis\n",
    "\n",
    "* Remove special characters from acquired column\n",
    "* normalize the transactions"
   ]
  },
  {
   "cell_type": "code",
   "execution_count": 9,
   "metadata": {},
   "outputs": [
    {
     "data": {
      "text/plain": [
       "<matplotlib.text.Text at 0x11941990>"
      ]
     },
     "execution_count": 9,
     "metadata": {},
     "output_type": "execute_result"
    },
    {
     "data": {
      "image/png": "[encoded data removed]",
      "text/plain": [
       "<matplotlib.figure.Figure at 0x1115c8d0>"
      ]
     },
     "metadata": {},
     "output_type": "display_data"
    }
   ],
   "source": [
    "plt.figure(figsize=(15,20))\n",
    "finalDat.groupby(finalDat['GM']).count()\n",
    "gmCnt2 = sns.countplot(y='GM', data=finalDat,color='blue')\n",
    "gmCnt2.set_title(\"Count of Transaction by GM\")"
   ]
  },
  {
   "cell_type": "code",
   "execution_count": null,
   "metadata": {},
   "outputs": [],
   "source": []
  }
 ],
 "metadata": {
  "kernelspec": {
   "display_name": "Python 3",
   "language": "python",
   "name": "python3"
  },
  "language_info": {
   "codemirror_mode": {
    "name": "ipython",
    "version": 3
   },
   "file_extension": ".py",
   "mimetype": "text/x-python",
   "name": "python",
   "nbconvert_exporter": "python",
   "pygments_lexer": "ipython3",
   "version": "3.6.1"
  }
 },
 "nbformat": 4,
 "nbformat_minor": 2
}
